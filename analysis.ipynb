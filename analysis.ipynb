{
  "nbformat": 4,
  "nbformat_minor": 0,
  "metadata": {
    "colab": {
      "name": "analysis.ipynb",
      "provenance": [],
      "toc_visible": true
    },
    "kernelspec": {
      "name": "python3",
      "display_name": "Python 3"
    }
  },
  "cells": [
    {
      "cell_type": "code",
      "metadata": {
        "id": "PTAvW2CKGuIf",
        "colab_type": "code",
        "outputId": "1af324c0-054f-485e-b36c-09c25499a2ff",
        "colab": {
          "base_uri": "https://localhost:8080/",
          "height": 182
        }
      },
      "source": [
        "# Run this cell if using colab\n",
        "%cd /content\n",
        "!git clone https://github.com/Ziinc/nb-15-demo\n",
        "%cd nb-15-demo\n",
        "!pwd"
      ],
      "execution_count": 1,
      "outputs": [
        {
          "output_type": "stream",
          "text": [
            "/content\n",
            "Cloning into 'nb-15-demo'...\n",
            "remote: Enumerating objects: 9, done.\u001b[K\n",
            "remote: Counting objects: 100% (9/9), done.\u001b[K\n",
            "remote: Compressing objects: 100% (8/8), done.\u001b[K\n",
            "remote: Total 20 (delta 2), reused 5 (delta 1), pack-reused 11\u001b[K\n",
            "Unpacking objects: 100% (20/20), done.\n",
            "/content/nb-15-demo\n",
            "/content/nb-15-demo\n"
          ],
          "name": "stdout"
        }
      ]
    },
    {
      "cell_type": "code",
      "metadata": {
        "id": "cVC0tiUnDu59",
        "colab_type": "code",
        "colab": {
          "base_uri": "https://localhost:8080/",
          "height": 237
        },
        "outputId": "d361e88e-872b-49ed-ee3b-c89bf3d50d54"
      },
      "source": [
        "!ls\n",
        "!chmod u+x ./unpack\n",
        "!./unpack\n",
        "!ls"
      ],
      "execution_count": 2,
      "outputs": [
        {
          "output_type": "stream",
          "text": [
            "analysis.ipynb\tdata.partab  data.partad  unpack\n",
            "data.partaa\tdata.partac  README.md\n",
            "./data/NUSW-NB15_features.csv\n",
            "./data/UNSW-NB15_1.csv\n",
            "./data/UNSW-NB15_2.csv\n",
            "./data/UNSW-NB15_3.csv\n",
            "./data/UNSW-NB15_4.csv\n",
            "./data/UNSW-NB15_LIST_EVENTS.csv\n",
            "./data/UNSW_NB15_testing-set.csv\n",
            "./data/UNSW_NB15_training-set.csv\n",
            "analysis.ipynb\tdata.partaa  data.partac  data.tar.gz  unpack\n",
            "data\t\tdata.partab  data.partad  README.md\n"
          ],
          "name": "stdout"
        }
      ]
    },
    {
      "cell_type": "markdown",
      "metadata": {
        "id": "2dehUwpgGufK",
        "colab_type": "text"
      },
      "source": [
        "# Data Cleaning\n",
        "\n",
        "You can read about the features in the `./data/NUSW-NB15_features.csv` file"
      ]
    },
    {
      "cell_type": "code",
      "metadata": {
        "id": "GF4D8LPfLcJ6",
        "colab_type": "code",
        "colab": {}
      },
      "source": [
        "import pandas as pd\n",
        "\n",
        "headers_df = pd.read_csv(\"data/NUSW-NB15_features.csv\", encoding= 'unicode_escape')\n",
        "headers_df.head()\n",
        "column_names = headers_df[\"Name\"].tolist()"
      ],
      "execution_count": 0,
      "outputs": []
    },
    {
      "cell_type": "code",
      "metadata": {
        "id": "eGM-W-FjNmUW",
        "colab_type": "code",
        "colab": {
          "base_uri": "https://localhost:8080/",
          "height": 917
        },
        "outputId": "e62fd152-dc5d-41c4-af2b-7777e1e44205"
      },
      "source": [
        "column_names"
      ],
      "execution_count": 6,
      "outputs": [
        {
          "output_type": "execute_result",
          "data": {
            "text/plain": [
              "['srcip',\n",
              " 'sport',\n",
              " 'dstip',\n",
              " 'dsport',\n",
              " 'proto',\n",
              " 'state',\n",
              " 'dur',\n",
              " 'sbytes',\n",
              " 'dbytes',\n",
              " 'sttl',\n",
              " 'dttl',\n",
              " 'sloss',\n",
              " 'dloss',\n",
              " 'service',\n",
              " 'Sload',\n",
              " 'Dload',\n",
              " 'Spkts',\n",
              " 'Dpkts',\n",
              " 'swin',\n",
              " 'dwin',\n",
              " 'stcpb',\n",
              " 'dtcpb',\n",
              " 'smeansz',\n",
              " 'dmeansz',\n",
              " 'trans_depth',\n",
              " 'res_bdy_len',\n",
              " 'Sjit',\n",
              " 'Djit',\n",
              " 'Stime',\n",
              " 'Ltime',\n",
              " 'Sintpkt',\n",
              " 'Dintpkt',\n",
              " 'tcprtt',\n",
              " 'synack',\n",
              " 'ackdat',\n",
              " 'is_sm_ips_ports',\n",
              " 'ct_state_ttl',\n",
              " 'ct_flw_http_mthd',\n",
              " 'is_ftp_login',\n",
              " 'ct_ftp_cmd',\n",
              " 'ct_srv_src',\n",
              " 'ct_srv_dst',\n",
              " 'ct_dst_ltm',\n",
              " 'ct_src_ ltm',\n",
              " 'ct_src_dport_ltm',\n",
              " 'ct_dst_sport_ltm',\n",
              " 'ct_dst_src_ltm',\n",
              " 'attack_cat',\n",
              " 'Label']"
            ]
          },
          "metadata": {
            "tags": []
          },
          "execution_count": 6
        }
      ]
    },
    {
      "cell_type": "code",
      "metadata": {
        "id": "DEZD7k4WHYCp",
        "colab_type": "code",
        "colab": {
          "base_uri": "https://localhost:8080/",
          "height": 317
        },
        "outputId": "ec510cc6-26d7-44ab-8e83-0645162b4b25"
      },
      "source": [
        "\n",
        "data_files = [\n",
        "\"data/UNSW-NB15_1.csv\",\n",
        "\"data/UNSW-NB15_2.csv\",\n",
        "\"data/UNSW-NB15_3.csv\",\n",
        "\"data/UNSW-NB15_4.csv\"\n",
        "]\n",
        "df = pd.concat((pd.read_csv(f, names=column_names) for f in data_files))\n",
        "\n",
        "df.head()"
      ],
      "execution_count": 8,
      "outputs": [
        {
          "output_type": "stream",
          "text": [
            "/usr/local/lib/python3.6/dist-packages/ipykernel_launcher.py:8: DtypeWarning: Columns (1,3,47) have mixed types. Specify dtype option on import or set low_memory=False.\n",
            "  \n",
            "/usr/local/lib/python3.6/dist-packages/ipykernel_launcher.py:8: DtypeWarning: Columns (3,39,47) have mixed types. Specify dtype option on import or set low_memory=False.\n",
            "  \n"
          ],
          "name": "stderr"
        },
        {
          "output_type": "execute_result",
          "data": {
            "text/html": [
              "<div>\n",
              "<style scoped>\n",
              "    .dataframe tbody tr th:only-of-type {\n",
              "        vertical-align: middle;\n",
              "    }\n",
              "\n",
              "    .dataframe tbody tr th {\n",
              "        vertical-align: top;\n",
              "    }\n",
              "\n",
              "    .dataframe thead th {\n",
              "        text-align: right;\n",
              "    }\n",
              "</style>\n",
              "<table border=\"1\" class=\"dataframe\">\n",
              "  <thead>\n",
              "    <tr style=\"text-align: right;\">\n",
              "      <th></th>\n",
              "      <th>srcip</th>\n",
              "      <th>sport</th>\n",
              "      <th>dstip</th>\n",
              "      <th>dsport</th>\n",
              "      <th>proto</th>\n",
              "      <th>state</th>\n",
              "      <th>dur</th>\n",
              "      <th>sbytes</th>\n",
              "      <th>dbytes</th>\n",
              "      <th>sttl</th>\n",
              "      <th>dttl</th>\n",
              "      <th>sloss</th>\n",
              "      <th>dloss</th>\n",
              "      <th>service</th>\n",
              "      <th>Sload</th>\n",
              "      <th>Dload</th>\n",
              "      <th>Spkts</th>\n",
              "      <th>Dpkts</th>\n",
              "      <th>swin</th>\n",
              "      <th>dwin</th>\n",
              "      <th>stcpb</th>\n",
              "      <th>dtcpb</th>\n",
              "      <th>smeansz</th>\n",
              "      <th>dmeansz</th>\n",
              "      <th>trans_depth</th>\n",
              "      <th>res_bdy_len</th>\n",
              "      <th>Sjit</th>\n",
              "      <th>Djit</th>\n",
              "      <th>Stime</th>\n",
              "      <th>Ltime</th>\n",
              "      <th>Sintpkt</th>\n",
              "      <th>Dintpkt</th>\n",
              "      <th>tcprtt</th>\n",
              "      <th>synack</th>\n",
              "      <th>ackdat</th>\n",
              "      <th>is_sm_ips_ports</th>\n",
              "      <th>ct_state_ttl</th>\n",
              "      <th>ct_flw_http_mthd</th>\n",
              "      <th>is_ftp_login</th>\n",
              "      <th>ct_ftp_cmd</th>\n",
              "      <th>ct_srv_src</th>\n",
              "      <th>ct_srv_dst</th>\n",
              "      <th>ct_dst_ltm</th>\n",
              "      <th>ct_src_ ltm</th>\n",
              "      <th>ct_src_dport_ltm</th>\n",
              "      <th>ct_dst_sport_ltm</th>\n",
              "      <th>ct_dst_src_ltm</th>\n",
              "      <th>attack_cat</th>\n",
              "      <th>Label</th>\n",
              "    </tr>\n",
              "  </thead>\n",
              "  <tbody>\n",
              "    <tr>\n",
              "      <th>0</th>\n",
              "      <td>59.166.0.0</td>\n",
              "      <td>1390</td>\n",
              "      <td>149.171.126.6</td>\n",
              "      <td>53</td>\n",
              "      <td>udp</td>\n",
              "      <td>CON</td>\n",
              "      <td>0.001055</td>\n",
              "      <td>132</td>\n",
              "      <td>164</td>\n",
              "      <td>31</td>\n",
              "      <td>29</td>\n",
              "      <td>0</td>\n",
              "      <td>0</td>\n",
              "      <td>dns</td>\n",
              "      <td>500473.93750</td>\n",
              "      <td>621800.93750</td>\n",
              "      <td>2</td>\n",
              "      <td>2</td>\n",
              "      <td>0</td>\n",
              "      <td>0</td>\n",
              "      <td>0</td>\n",
              "      <td>0</td>\n",
              "      <td>66</td>\n",
              "      <td>82</td>\n",
              "      <td>0</td>\n",
              "      <td>0</td>\n",
              "      <td>0.00000</td>\n",
              "      <td>0.000000</td>\n",
              "      <td>1421927414</td>\n",
              "      <td>1421927414</td>\n",
              "      <td>0.017</td>\n",
              "      <td>0.013000</td>\n",
              "      <td>0.0</td>\n",
              "      <td>0.0</td>\n",
              "      <td>0.0</td>\n",
              "      <td>0</td>\n",
              "      <td>0</td>\n",
              "      <td>0.0</td>\n",
              "      <td>0.0</td>\n",
              "      <td>0</td>\n",
              "      <td>3</td>\n",
              "      <td>7</td>\n",
              "      <td>1</td>\n",
              "      <td>3</td>\n",
              "      <td>1</td>\n",
              "      <td>1</td>\n",
              "      <td>1</td>\n",
              "      <td>NaN</td>\n",
              "      <td>0</td>\n",
              "    </tr>\n",
              "    <tr>\n",
              "      <th>1</th>\n",
              "      <td>59.166.0.0</td>\n",
              "      <td>33661</td>\n",
              "      <td>149.171.126.9</td>\n",
              "      <td>1024</td>\n",
              "      <td>udp</td>\n",
              "      <td>CON</td>\n",
              "      <td>0.036133</td>\n",
              "      <td>528</td>\n",
              "      <td>304</td>\n",
              "      <td>31</td>\n",
              "      <td>29</td>\n",
              "      <td>0</td>\n",
              "      <td>0</td>\n",
              "      <td>-</td>\n",
              "      <td>87676.08594</td>\n",
              "      <td>50480.17188</td>\n",
              "      <td>4</td>\n",
              "      <td>4</td>\n",
              "      <td>0</td>\n",
              "      <td>0</td>\n",
              "      <td>0</td>\n",
              "      <td>0</td>\n",
              "      <td>132</td>\n",
              "      <td>76</td>\n",
              "      <td>0</td>\n",
              "      <td>0</td>\n",
              "      <td>9.89101</td>\n",
              "      <td>10.682733</td>\n",
              "      <td>1421927414</td>\n",
              "      <td>1421927414</td>\n",
              "      <td>7.005</td>\n",
              "      <td>7.564333</td>\n",
              "      <td>0.0</td>\n",
              "      <td>0.0</td>\n",
              "      <td>0.0</td>\n",
              "      <td>0</td>\n",
              "      <td>0</td>\n",
              "      <td>0.0</td>\n",
              "      <td>0.0</td>\n",
              "      <td>0</td>\n",
              "      <td>2</td>\n",
              "      <td>4</td>\n",
              "      <td>2</td>\n",
              "      <td>3</td>\n",
              "      <td>1</td>\n",
              "      <td>1</td>\n",
              "      <td>2</td>\n",
              "      <td>NaN</td>\n",
              "      <td>0</td>\n",
              "    </tr>\n",
              "    <tr>\n",
              "      <th>2</th>\n",
              "      <td>59.166.0.6</td>\n",
              "      <td>1464</td>\n",
              "      <td>149.171.126.7</td>\n",
              "      <td>53</td>\n",
              "      <td>udp</td>\n",
              "      <td>CON</td>\n",
              "      <td>0.001119</td>\n",
              "      <td>146</td>\n",
              "      <td>178</td>\n",
              "      <td>31</td>\n",
              "      <td>29</td>\n",
              "      <td>0</td>\n",
              "      <td>0</td>\n",
              "      <td>dns</td>\n",
              "      <td>521894.53130</td>\n",
              "      <td>636282.37500</td>\n",
              "      <td>2</td>\n",
              "      <td>2</td>\n",
              "      <td>0</td>\n",
              "      <td>0</td>\n",
              "      <td>0</td>\n",
              "      <td>0</td>\n",
              "      <td>73</td>\n",
              "      <td>89</td>\n",
              "      <td>0</td>\n",
              "      <td>0</td>\n",
              "      <td>0.00000</td>\n",
              "      <td>0.000000</td>\n",
              "      <td>1421927414</td>\n",
              "      <td>1421927414</td>\n",
              "      <td>0.017</td>\n",
              "      <td>0.013000</td>\n",
              "      <td>0.0</td>\n",
              "      <td>0.0</td>\n",
              "      <td>0.0</td>\n",
              "      <td>0</td>\n",
              "      <td>0</td>\n",
              "      <td>0.0</td>\n",
              "      <td>0.0</td>\n",
              "      <td>0</td>\n",
              "      <td>12</td>\n",
              "      <td>8</td>\n",
              "      <td>1</td>\n",
              "      <td>2</td>\n",
              "      <td>2</td>\n",
              "      <td>1</td>\n",
              "      <td>1</td>\n",
              "      <td>NaN</td>\n",
              "      <td>0</td>\n",
              "    </tr>\n",
              "    <tr>\n",
              "      <th>3</th>\n",
              "      <td>59.166.0.5</td>\n",
              "      <td>3593</td>\n",
              "      <td>149.171.126.5</td>\n",
              "      <td>53</td>\n",
              "      <td>udp</td>\n",
              "      <td>CON</td>\n",
              "      <td>0.001209</td>\n",
              "      <td>132</td>\n",
              "      <td>164</td>\n",
              "      <td>31</td>\n",
              "      <td>29</td>\n",
              "      <td>0</td>\n",
              "      <td>0</td>\n",
              "      <td>dns</td>\n",
              "      <td>436724.56250</td>\n",
              "      <td>542597.18750</td>\n",
              "      <td>2</td>\n",
              "      <td>2</td>\n",
              "      <td>0</td>\n",
              "      <td>0</td>\n",
              "      <td>0</td>\n",
              "      <td>0</td>\n",
              "      <td>66</td>\n",
              "      <td>82</td>\n",
              "      <td>0</td>\n",
              "      <td>0</td>\n",
              "      <td>0.00000</td>\n",
              "      <td>0.000000</td>\n",
              "      <td>1421927414</td>\n",
              "      <td>1421927414</td>\n",
              "      <td>0.043</td>\n",
              "      <td>0.014000</td>\n",
              "      <td>0.0</td>\n",
              "      <td>0.0</td>\n",
              "      <td>0.0</td>\n",
              "      <td>0</td>\n",
              "      <td>0</td>\n",
              "      <td>0.0</td>\n",
              "      <td>0.0</td>\n",
              "      <td>0</td>\n",
              "      <td>6</td>\n",
              "      <td>9</td>\n",
              "      <td>1</td>\n",
              "      <td>1</td>\n",
              "      <td>1</td>\n",
              "      <td>1</td>\n",
              "      <td>1</td>\n",
              "      <td>NaN</td>\n",
              "      <td>0</td>\n",
              "    </tr>\n",
              "    <tr>\n",
              "      <th>4</th>\n",
              "      <td>59.166.0.3</td>\n",
              "      <td>49664</td>\n",
              "      <td>149.171.126.0</td>\n",
              "      <td>53</td>\n",
              "      <td>udp</td>\n",
              "      <td>CON</td>\n",
              "      <td>0.001169</td>\n",
              "      <td>146</td>\n",
              "      <td>178</td>\n",
              "      <td>31</td>\n",
              "      <td>29</td>\n",
              "      <td>0</td>\n",
              "      <td>0</td>\n",
              "      <td>dns</td>\n",
              "      <td>499572.25000</td>\n",
              "      <td>609067.56250</td>\n",
              "      <td>2</td>\n",
              "      <td>2</td>\n",
              "      <td>0</td>\n",
              "      <td>0</td>\n",
              "      <td>0</td>\n",
              "      <td>0</td>\n",
              "      <td>73</td>\n",
              "      <td>89</td>\n",
              "      <td>0</td>\n",
              "      <td>0</td>\n",
              "      <td>0.00000</td>\n",
              "      <td>0.000000</td>\n",
              "      <td>1421927414</td>\n",
              "      <td>1421927414</td>\n",
              "      <td>0.005</td>\n",
              "      <td>0.003000</td>\n",
              "      <td>0.0</td>\n",
              "      <td>0.0</td>\n",
              "      <td>0.0</td>\n",
              "      <td>0</td>\n",
              "      <td>0</td>\n",
              "      <td>0.0</td>\n",
              "      <td>0.0</td>\n",
              "      <td>0</td>\n",
              "      <td>7</td>\n",
              "      <td>9</td>\n",
              "      <td>1</td>\n",
              "      <td>1</td>\n",
              "      <td>1</td>\n",
              "      <td>1</td>\n",
              "      <td>1</td>\n",
              "      <td>NaN</td>\n",
              "      <td>0</td>\n",
              "    </tr>\n",
              "  </tbody>\n",
              "</table>\n",
              "</div>"
            ],
            "text/plain": [
              "        srcip  sport          dstip  ... ct_dst_src_ltm attack_cat Label\n",
              "0  59.166.0.0   1390  149.171.126.6  ...              1        NaN     0\n",
              "1  59.166.0.0  33661  149.171.126.9  ...              2        NaN     0\n",
              "2  59.166.0.6   1464  149.171.126.7  ...              1        NaN     0\n",
              "3  59.166.0.5   3593  149.171.126.5  ...              1        NaN     0\n",
              "4  59.166.0.3  49664  149.171.126.0  ...              1        NaN     0\n",
              "\n",
              "[5 rows x 49 columns]"
            ]
          },
          "metadata": {
            "tags": []
          },
          "execution_count": 8
        }
      ]
    },
    {
      "cell_type": "code",
      "metadata": {
        "id": "36s-4SIRrx_c",
        "colab_type": "code",
        "colab": {
          "base_uri": "https://localhost:8080/",
          "height": 274
        },
        "outputId": "bad37cfb-d74d-4aa9-c6f7-8b3b8fd6cbd3"
      },
      "source": [
        "df.describe"
      ],
      "execution_count": 9,
      "outputs": [
        {
          "output_type": "execute_result",
          "data": {
            "text/plain": [
              "<bound method NDFrame.describe of                srcip  sport           dstip  ... ct_dst_src_ltm attack_cat Label\n",
              "0         59.166.0.0   1390   149.171.126.6  ...              1        NaN     0\n",
              "1         59.166.0.0  33661   149.171.126.9  ...              2        NaN     0\n",
              "2         59.166.0.6   1464   149.171.126.7  ...              1        NaN     0\n",
              "3         59.166.0.5   3593   149.171.126.5  ...              1        NaN     0\n",
              "4         59.166.0.3  49664   149.171.126.0  ...              1        NaN     0\n",
              "...              ...    ...             ...  ...            ...        ...   ...\n",
              "440039    59.166.0.5  33094   149.171.126.7  ...              3        NaN     0\n",
              "440040    59.166.0.7  20848   149.171.126.4  ...              2        NaN     0\n",
              "440041    59.166.0.3  21511   149.171.126.9  ...              2        NaN     0\n",
              "440042    59.166.0.9  35433   149.171.126.0  ...              2        NaN     0\n",
              "440043  175.45.176.0  17293  149.171.126.17  ...              2   Exploits     1\n",
              "\n",
              "[2540047 rows x 49 columns]>"
            ]
          },
          "metadata": {
            "tags": []
          },
          "execution_count": 9
        }
      ]
    },
    {
      "cell_type": "markdown",
      "metadata": {
        "id": "bJ09ShXxxGxW",
        "colab_type": "text"
      },
      "source": [
        "### Converting IPs"
      ]
    },
    {
      "cell_type": "code",
      "metadata": {
        "id": "gFcFMdqSxGO6",
        "colab_type": "code",
        "colab": {}
      },
      "source": [
        ""
      ],
      "execution_count": 0,
      "outputs": []
    },
    {
      "cell_type": "markdown",
      "metadata": {
        "id": "8_-2jJGPsqmp",
        "colab_type": "text"
      },
      "source": [
        "## Creating our Training, Validation , and Testing Sets\n",
        "This step is essential to ensure that the model does not overfit to data that has been already seen.\n",
        "\n",
        "Some [definitions](https://towardsdatascience.com/train-validation-and-test-sets-72cb40cba9e7):\n",
        "- Training Dataset: For fitting the model\n",
        "- Validation Dataset: For tuning hyperparameters\n",
        "- Test Dataset: For evaluating final model"
      ]
    },
    {
      "cell_type": "code",
      "metadata": {
        "id": "hBndgnixsMl7",
        "colab_type": "code",
        "colab": {}
      },
      "source": [
        "import numpy as np\n",
        "from sklearn.model_selection import train_test_split\n",
        "\n",
        "# We remove the labels from our dataset\n",
        "# Note that our df variable still holds the original dataframe from the CSVs\n",
        "X = df.drop(columns=[\"Label\", \"attack_cat\"])\n",
        "labels = df[\"Label\"].values\n",
        "cat = df[\"attack_cat\"].values"
      ],
      "execution_count": 0,
      "outputs": []
    },
    {
      "cell_type": "markdown",
      "metadata": {
        "id": "XoC3-GZxvffg",
        "colab_type": "text"
      },
      "source": [
        "For demonstrative purposes, we are only concerned with **identifying a possible attack**, and not concerned with categorizing the type of attack it is.\n",
        "\n",
        "As such, we shall make use of the boolean labelling provided in the dataset."
      ]
    },
    {
      "cell_type": "code",
      "metadata": {
        "id": "GABeCNWetepc",
        "colab_type": "code",
        "colab": {}
      },
      "source": [
        "# We split our dataset into training, test, and validation subsets.\n",
        "# X_train and y_train is reassigned by the 2nd split.\n",
        "# We also add in a different random state\n",
        "X_train, X_test, y_train, y_test = train_test_split(X, labels, test_size=0.25, random_state=42)\n",
        "X_train, X_val, y_train, y_val = train_test_split(X_train, y_train, test_size=0.25, random_state=33)\n"
      ],
      "execution_count": 0,
      "outputs": []
    },
    {
      "cell_type": "markdown",
      "metadata": {
        "id": "XEmUZYP6sNEy",
        "colab_type": "text"
      },
      "source": [
        "## Creating a Naive Model\n",
        "To have a rough guiding basis of our model, we will compare further models against our Naive Model. This model will be a simple CART model.\n"
      ]
    },
    {
      "cell_type": "code",
      "metadata": {
        "id": "sffi3wMiwIjb",
        "colab_type": "code",
        "colab": {
          "base_uri": "https://localhost:8080/",
          "height": 362
        },
        "outputId": "7ae6d27e-7e17-4bfe-9ce0-f1c3d7f24133"
      },
      "source": [
        "from sklearn import tree\n",
        "clf = tree.DecisionTreeClassifier()\n",
        "clf = clf.fit(X_train, y_train)"
      ],
      "execution_count": 12,
      "outputs": [
        {
          "output_type": "error",
          "ename": "ValueError",
          "evalue": "ignored",
          "traceback": [
            "\u001b[0;31m---------------------------------------------------------------------------\u001b[0m",
            "\u001b[0;31mValueError\u001b[0m                                Traceback (most recent call last)",
            "\u001b[0;32m<ipython-input-12-3ce4646f04c4>\u001b[0m in \u001b[0;36m<module>\u001b[0;34m()\u001b[0m\n\u001b[1;32m      1\u001b[0m \u001b[0;32mfrom\u001b[0m \u001b[0msklearn\u001b[0m \u001b[0;32mimport\u001b[0m \u001b[0mtree\u001b[0m\u001b[0;34m\u001b[0m\u001b[0;34m\u001b[0m\u001b[0m\n\u001b[1;32m      2\u001b[0m \u001b[0mclf\u001b[0m \u001b[0;34m=\u001b[0m \u001b[0mtree\u001b[0m\u001b[0;34m.\u001b[0m\u001b[0mDecisionTreeClassifier\u001b[0m\u001b[0;34m(\u001b[0m\u001b[0;34m)\u001b[0m\u001b[0;34m\u001b[0m\u001b[0;34m\u001b[0m\u001b[0m\n\u001b[0;32m----> 3\u001b[0;31m \u001b[0mclf\u001b[0m \u001b[0;34m=\u001b[0m \u001b[0mclf\u001b[0m\u001b[0;34m.\u001b[0m\u001b[0mfit\u001b[0m\u001b[0;34m(\u001b[0m\u001b[0mX_train\u001b[0m\u001b[0;34m,\u001b[0m \u001b[0my_train\u001b[0m\u001b[0;34m)\u001b[0m\u001b[0;34m\u001b[0m\u001b[0;34m\u001b[0m\u001b[0m\n\u001b[0m",
            "\u001b[0;32m/usr/local/lib/python3.6/dist-packages/sklearn/tree/_classes.py\u001b[0m in \u001b[0;36mfit\u001b[0;34m(self, X, y, sample_weight, check_input, X_idx_sorted)\u001b[0m\n\u001b[1;32m    875\u001b[0m             \u001b[0msample_weight\u001b[0m\u001b[0;34m=\u001b[0m\u001b[0msample_weight\u001b[0m\u001b[0;34m,\u001b[0m\u001b[0;34m\u001b[0m\u001b[0;34m\u001b[0m\u001b[0m\n\u001b[1;32m    876\u001b[0m             \u001b[0mcheck_input\u001b[0m\u001b[0;34m=\u001b[0m\u001b[0mcheck_input\u001b[0m\u001b[0;34m,\u001b[0m\u001b[0;34m\u001b[0m\u001b[0;34m\u001b[0m\u001b[0m\n\u001b[0;32m--> 877\u001b[0;31m             X_idx_sorted=X_idx_sorted)\n\u001b[0m\u001b[1;32m    878\u001b[0m         \u001b[0;32mreturn\u001b[0m \u001b[0mself\u001b[0m\u001b[0;34m\u001b[0m\u001b[0;34m\u001b[0m\u001b[0m\n\u001b[1;32m    879\u001b[0m \u001b[0;34m\u001b[0m\u001b[0m\n",
            "\u001b[0;32m/usr/local/lib/python3.6/dist-packages/sklearn/tree/_classes.py\u001b[0m in \u001b[0;36mfit\u001b[0;34m(self, X, y, sample_weight, check_input, X_idx_sorted)\u001b[0m\n\u001b[1;32m    147\u001b[0m \u001b[0;34m\u001b[0m\u001b[0m\n\u001b[1;32m    148\u001b[0m         \u001b[0;32mif\u001b[0m \u001b[0mcheck_input\u001b[0m\u001b[0;34m:\u001b[0m\u001b[0;34m\u001b[0m\u001b[0;34m\u001b[0m\u001b[0m\n\u001b[0;32m--> 149\u001b[0;31m             \u001b[0mX\u001b[0m \u001b[0;34m=\u001b[0m \u001b[0mcheck_array\u001b[0m\u001b[0;34m(\u001b[0m\u001b[0mX\u001b[0m\u001b[0;34m,\u001b[0m \u001b[0mdtype\u001b[0m\u001b[0;34m=\u001b[0m\u001b[0mDTYPE\u001b[0m\u001b[0;34m,\u001b[0m \u001b[0maccept_sparse\u001b[0m\u001b[0;34m=\u001b[0m\u001b[0;34m\"csc\"\u001b[0m\u001b[0;34m)\u001b[0m\u001b[0;34m\u001b[0m\u001b[0;34m\u001b[0m\u001b[0m\n\u001b[0m\u001b[1;32m    150\u001b[0m             \u001b[0my\u001b[0m \u001b[0;34m=\u001b[0m \u001b[0mcheck_array\u001b[0m\u001b[0;34m(\u001b[0m\u001b[0my\u001b[0m\u001b[0;34m,\u001b[0m \u001b[0mensure_2d\u001b[0m\u001b[0;34m=\u001b[0m\u001b[0;32mFalse\u001b[0m\u001b[0;34m,\u001b[0m \u001b[0mdtype\u001b[0m\u001b[0;34m=\u001b[0m\u001b[0;32mNone\u001b[0m\u001b[0;34m)\u001b[0m\u001b[0;34m\u001b[0m\u001b[0;34m\u001b[0m\u001b[0m\n\u001b[1;32m    151\u001b[0m             \u001b[0;32mif\u001b[0m \u001b[0missparse\u001b[0m\u001b[0;34m(\u001b[0m\u001b[0mX\u001b[0m\u001b[0;34m)\u001b[0m\u001b[0;34m:\u001b[0m\u001b[0;34m\u001b[0m\u001b[0;34m\u001b[0m\u001b[0m\n",
            "\u001b[0;32m/usr/local/lib/python3.6/dist-packages/sklearn/utils/validation.py\u001b[0m in \u001b[0;36mcheck_array\u001b[0;34m(array, accept_sparse, accept_large_sparse, dtype, order, copy, force_all_finite, ensure_2d, allow_nd, ensure_min_samples, ensure_min_features, warn_on_dtype, estimator)\u001b[0m\n\u001b[1;32m    529\u001b[0m                     \u001b[0marray\u001b[0m \u001b[0;34m=\u001b[0m \u001b[0marray\u001b[0m\u001b[0;34m.\u001b[0m\u001b[0mastype\u001b[0m\u001b[0;34m(\u001b[0m\u001b[0mdtype\u001b[0m\u001b[0;34m,\u001b[0m \u001b[0mcasting\u001b[0m\u001b[0;34m=\u001b[0m\u001b[0;34m\"unsafe\"\u001b[0m\u001b[0;34m,\u001b[0m \u001b[0mcopy\u001b[0m\u001b[0;34m=\u001b[0m\u001b[0;32mFalse\u001b[0m\u001b[0;34m)\u001b[0m\u001b[0;34m\u001b[0m\u001b[0;34m\u001b[0m\u001b[0m\n\u001b[1;32m    530\u001b[0m                 \u001b[0;32melse\u001b[0m\u001b[0;34m:\u001b[0m\u001b[0;34m\u001b[0m\u001b[0;34m\u001b[0m\u001b[0m\n\u001b[0;32m--> 531\u001b[0;31m                     \u001b[0marray\u001b[0m \u001b[0;34m=\u001b[0m \u001b[0mnp\u001b[0m\u001b[0;34m.\u001b[0m\u001b[0masarray\u001b[0m\u001b[0;34m(\u001b[0m\u001b[0marray\u001b[0m\u001b[0;34m,\u001b[0m \u001b[0morder\u001b[0m\u001b[0;34m=\u001b[0m\u001b[0morder\u001b[0m\u001b[0;34m,\u001b[0m \u001b[0mdtype\u001b[0m\u001b[0;34m=\u001b[0m\u001b[0mdtype\u001b[0m\u001b[0;34m)\u001b[0m\u001b[0;34m\u001b[0m\u001b[0;34m\u001b[0m\u001b[0m\n\u001b[0m\u001b[1;32m    532\u001b[0m             \u001b[0;32mexcept\u001b[0m \u001b[0mComplexWarning\u001b[0m\u001b[0;34m:\u001b[0m\u001b[0;34m\u001b[0m\u001b[0;34m\u001b[0m\u001b[0m\n\u001b[1;32m    533\u001b[0m                 raise ValueError(\"Complex data not supported\\n\"\n",
            "\u001b[0;32m/usr/local/lib/python3.6/dist-packages/numpy/core/_asarray.py\u001b[0m in \u001b[0;36masarray\u001b[0;34m(a, dtype, order)\u001b[0m\n\u001b[1;32m     83\u001b[0m \u001b[0;34m\u001b[0m\u001b[0m\n\u001b[1;32m     84\u001b[0m     \"\"\"\n\u001b[0;32m---> 85\u001b[0;31m     \u001b[0;32mreturn\u001b[0m \u001b[0marray\u001b[0m\u001b[0;34m(\u001b[0m\u001b[0ma\u001b[0m\u001b[0;34m,\u001b[0m \u001b[0mdtype\u001b[0m\u001b[0;34m,\u001b[0m \u001b[0mcopy\u001b[0m\u001b[0;34m=\u001b[0m\u001b[0;32mFalse\u001b[0m\u001b[0;34m,\u001b[0m \u001b[0morder\u001b[0m\u001b[0;34m=\u001b[0m\u001b[0morder\u001b[0m\u001b[0;34m)\u001b[0m\u001b[0;34m\u001b[0m\u001b[0;34m\u001b[0m\u001b[0m\n\u001b[0m\u001b[1;32m     86\u001b[0m \u001b[0;34m\u001b[0m\u001b[0m\n\u001b[1;32m     87\u001b[0m \u001b[0;34m\u001b[0m\u001b[0m\n",
            "\u001b[0;31mValueError\u001b[0m: could not convert string to float: '59.166.0.7'"
          ]
        }
      ]
    },
    {
      "cell_type": "code",
      "metadata": {
        "id": "D3TFxtwpwWj7",
        "colab_type": "code",
        "colab": {}
      },
      "source": [
        "tree.plot_tree(clf) "
      ],
      "execution_count": 0,
      "outputs": []
    }
  ]
}