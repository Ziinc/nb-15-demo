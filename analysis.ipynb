{
  "nbformat": 4,
  "nbformat_minor": 0,
  "metadata": {
    "colab": {
      "name": "analysis.ipynb",
      "provenance": [],
      "toc_visible": true
    },
    "kernelspec": {
      "name": "python3",
      "display_name": "Python 3"
    }
  },
  "cells": [
    {
      "cell_type": "code",
      "metadata": {
        "id": "PTAvW2CKGuIf",
        "colab_type": "code",
        "outputId": "2518941a-8432-4c0a-8881-cf26569cfd82",
        "colab": {
          "base_uri": "https://localhost:8080/",
          "height": 182
        }
      },
      "source": [
        "# Run this cell if using colab\n",
        "%cd /content\n",
        "!git clone https://github.com/Ziinc/nb-15-demo\n",
        "%cd nb-15-demo\n",
        "!pwd"
      ],
      "execution_count": 1,
      "outputs": [
        {
          "output_type": "stream",
          "text": [
            "/content\n",
            "Cloning into 'nb-15-demo'...\n",
            "remote: Enumerating objects: 16, done.\u001b[K\n",
            "remote: Counting objects: 100% (16/16), done.\u001b[K\n",
            "remote: Compressing objects: 100% (15/15), done.\u001b[K\n",
            "remote: Total 27 (delta 6), reused 5 (delta 1), pack-reused 11\u001b[K\n",
            "Unpacking objects: 100% (27/27), done.\n",
            "/content/nb-15-demo\n",
            "/content/nb-15-demo\n"
          ],
          "name": "stdout"
        }
      ]
    },
    {
      "cell_type": "code",
      "metadata": {
        "id": "cVC0tiUnDu59",
        "colab_type": "code",
        "outputId": "e68b1506-d726-4f6e-aec7-e07d8cbc974f",
        "colab": {
          "base_uri": "https://localhost:8080/",
          "height": 237
        }
      },
      "source": [
        "!ls\n",
        "!chmod u+x ./unpack\n",
        "!./unpack\n",
        "!ls"
      ],
      "execution_count": 2,
      "outputs": [
        {
          "output_type": "stream",
          "text": [
            "analysis.ipynb\tdata.partab  data.partad  unpack\n",
            "data.partaa\tdata.partac  README.md\n",
            "./data/NUSW-NB15_features.csv\n",
            "./data/UNSW-NB15_1.csv\n",
            "./data/UNSW-NB15_2.csv\n",
            "./data/UNSW-NB15_3.csv\n",
            "./data/UNSW-NB15_4.csv\n",
            "./data/UNSW-NB15_LIST_EVENTS.csv\n",
            "./data/UNSW_NB15_testing-set.csv\n",
            "./data/UNSW_NB15_training-set.csv\n",
            "analysis.ipynb\tdata.partaa  data.partac  data.tar.gz  unpack\n",
            "data\t\tdata.partab  data.partad  README.md\n"
          ],
          "name": "stdout"
        }
      ]
    },
    {
      "cell_type": "markdown",
      "metadata": {
        "id": "2dehUwpgGufK",
        "colab_type": "text"
      },
      "source": [
        "# Data Cleaning\n",
        "\n",
        "You can read about the features in the `./data/NUSW-NB15_features.csv` file"
      ]
    },
    {
      "cell_type": "code",
      "metadata": {
        "id": "GF4D8LPfLcJ6",
        "colab_type": "code",
        "colab": {}
      },
      "source": [
        "import pandas as pd\n",
        "import numpy as np\n",
        "headers_df = pd.read_csv(\"data/NUSW-NB15_features.csv\", encoding= 'unicode_escape')\n",
        "headers_df.head()\n",
        "column_names = headers_df[\"Name\"].tolist()"
      ],
      "execution_count": 0,
      "outputs": []
    },
    {
      "cell_type": "code",
      "metadata": {
        "id": "eGM-W-FjNmUW",
        "colab_type": "code",
        "outputId": "af77caef-98ba-417c-975e-146e5f8ff95e",
        "colab": {
          "base_uri": "https://localhost:8080/",
          "height": 917
        }
      },
      "source": [
        "column_names"
      ],
      "execution_count": 4,
      "outputs": [
        {
          "output_type": "execute_result",
          "data": {
            "text/plain": [
              "['srcip',\n",
              " 'sport',\n",
              " 'dstip',\n",
              " 'dsport',\n",
              " 'proto',\n",
              " 'state',\n",
              " 'dur',\n",
              " 'sbytes',\n",
              " 'dbytes',\n",
              " 'sttl',\n",
              " 'dttl',\n",
              " 'sloss',\n",
              " 'dloss',\n",
              " 'service',\n",
              " 'Sload',\n",
              " 'Dload',\n",
              " 'Spkts',\n",
              " 'Dpkts',\n",
              " 'swin',\n",
              " 'dwin',\n",
              " 'stcpb',\n",
              " 'dtcpb',\n",
              " 'smeansz',\n",
              " 'dmeansz',\n",
              " 'trans_depth',\n",
              " 'res_bdy_len',\n",
              " 'Sjit',\n",
              " 'Djit',\n",
              " 'Stime',\n",
              " 'Ltime',\n",
              " 'Sintpkt',\n",
              " 'Dintpkt',\n",
              " 'tcprtt',\n",
              " 'synack',\n",
              " 'ackdat',\n",
              " 'is_sm_ips_ports',\n",
              " 'ct_state_ttl',\n",
              " 'ct_flw_http_mthd',\n",
              " 'is_ftp_login',\n",
              " 'ct_ftp_cmd',\n",
              " 'ct_srv_src',\n",
              " 'ct_srv_dst',\n",
              " 'ct_dst_ltm',\n",
              " 'ct_src_ ltm',\n",
              " 'ct_src_dport_ltm',\n",
              " 'ct_dst_sport_ltm',\n",
              " 'ct_dst_src_ltm',\n",
              " 'attack_cat',\n",
              " 'Label']"
            ]
          },
          "metadata": {
            "tags": []
          },
          "execution_count": 4
        }
      ]
    },
    {
      "cell_type": "code",
      "metadata": {
        "id": "WxA554wM5uaQ",
        "colab_type": "code",
        "outputId": "d2d5247f-6811-430b-ada6-b0696d7076c5",
        "colab": {
          "base_uri": "https://localhost:8080/",
          "height": 917
        }
      },
      "source": [
        "# we need to fix a typo with the ct_src_ltm column, as the dataset author had left a space in it\n",
        " clean_column_names = [\"ct_src_ltm\" if x==\"ct_src_ ltm\" else x for x in column_names]\n",
        " clean_column_names"
      ],
      "execution_count": 5,
      "outputs": [
        {
          "output_type": "execute_result",
          "data": {
            "text/plain": [
              "['srcip',\n",
              " 'sport',\n",
              " 'dstip',\n",
              " 'dsport',\n",
              " 'proto',\n",
              " 'state',\n",
              " 'dur',\n",
              " 'sbytes',\n",
              " 'dbytes',\n",
              " 'sttl',\n",
              " 'dttl',\n",
              " 'sloss',\n",
              " 'dloss',\n",
              " 'service',\n",
              " 'Sload',\n",
              " 'Dload',\n",
              " 'Spkts',\n",
              " 'Dpkts',\n",
              " 'swin',\n",
              " 'dwin',\n",
              " 'stcpb',\n",
              " 'dtcpb',\n",
              " 'smeansz',\n",
              " 'dmeansz',\n",
              " 'trans_depth',\n",
              " 'res_bdy_len',\n",
              " 'Sjit',\n",
              " 'Djit',\n",
              " 'Stime',\n",
              " 'Ltime',\n",
              " 'Sintpkt',\n",
              " 'Dintpkt',\n",
              " 'tcprtt',\n",
              " 'synack',\n",
              " 'ackdat',\n",
              " 'is_sm_ips_ports',\n",
              " 'ct_state_ttl',\n",
              " 'ct_flw_http_mthd',\n",
              " 'is_ftp_login',\n",
              " 'ct_ftp_cmd',\n",
              " 'ct_srv_src',\n",
              " 'ct_srv_dst',\n",
              " 'ct_dst_ltm',\n",
              " 'ct_src_ltm',\n",
              " 'ct_src_dport_ltm',\n",
              " 'ct_dst_sport_ltm',\n",
              " 'ct_dst_src_ltm',\n",
              " 'attack_cat',\n",
              " 'Label']"
            ]
          },
          "metadata": {
            "tags": []
          },
          "execution_count": 5
        }
      ]
    },
    {
      "cell_type": "code",
      "metadata": {
        "id": "DEZD7k4WHYCp",
        "colab_type": "code",
        "outputId": "71ffbfc2-c127-4cad-df2b-98ca9b7ecea5",
        "colab": {
          "base_uri": "https://localhost:8080/",
          "height": 300
        }
      },
      "source": [
        "\n",
        "data_files = [\n",
        "\"data/UNSW-NB15_1.csv\",\n",
        "\"data/UNSW-NB15_2.csv\",\n",
        "\"data/UNSW-NB15_3.csv\",\n",
        "\"data/UNSW-NB15_4.csv\"\n",
        "]\n",
        "df = pd.concat((pd.read_csv(f, names=clean_column_names) for f in data_files))\n",
        "\n",
        "df.head()"
      ],
      "execution_count": 6,
      "outputs": [
        {
          "output_type": "stream",
          "text": [
            "/usr/local/lib/python3.6/dist-packages/ipykernel_launcher.py:8: DtypeWarning: Columns (1,3,47) have mixed types. Specify dtype option on import or set low_memory=False.\n",
            "  \n",
            "/usr/local/lib/python3.6/dist-packages/ipykernel_launcher.py:8: DtypeWarning: Columns (3,39,47) have mixed types. Specify dtype option on import or set low_memory=False.\n",
            "  \n"
          ],
          "name": "stderr"
        },
        {
          "output_type": "execute_result",
          "data": {
            "text/html": [
              "<div>\n",
              "<style scoped>\n",
              "    .dataframe tbody tr th:only-of-type {\n",
              "        vertical-align: middle;\n",
              "    }\n",
              "\n",
              "    .dataframe tbody tr th {\n",
              "        vertical-align: top;\n",
              "    }\n",
              "\n",
              "    .dataframe thead th {\n",
              "        text-align: right;\n",
              "    }\n",
              "</style>\n",
              "<table border=\"1\" class=\"dataframe\">\n",
              "  <thead>\n",
              "    <tr style=\"text-align: right;\">\n",
              "      <th></th>\n",
              "      <th>srcip</th>\n",
              "      <th>sport</th>\n",
              "      <th>dstip</th>\n",
              "      <th>dsport</th>\n",
              "      <th>proto</th>\n",
              "      <th>state</th>\n",
              "      <th>dur</th>\n",
              "      <th>sbytes</th>\n",
              "      <th>dbytes</th>\n",
              "      <th>sttl</th>\n",
              "      <th>dttl</th>\n",
              "      <th>sloss</th>\n",
              "      <th>dloss</th>\n",
              "      <th>service</th>\n",
              "      <th>Sload</th>\n",
              "      <th>Dload</th>\n",
              "      <th>Spkts</th>\n",
              "      <th>Dpkts</th>\n",
              "      <th>swin</th>\n",
              "      <th>dwin</th>\n",
              "      <th>stcpb</th>\n",
              "      <th>dtcpb</th>\n",
              "      <th>smeansz</th>\n",
              "      <th>dmeansz</th>\n",
              "      <th>trans_depth</th>\n",
              "      <th>res_bdy_len</th>\n",
              "      <th>Sjit</th>\n",
              "      <th>Djit</th>\n",
              "      <th>Stime</th>\n",
              "      <th>Ltime</th>\n",
              "      <th>Sintpkt</th>\n",
              "      <th>Dintpkt</th>\n",
              "      <th>tcprtt</th>\n",
              "      <th>synack</th>\n",
              "      <th>ackdat</th>\n",
              "      <th>is_sm_ips_ports</th>\n",
              "      <th>ct_state_ttl</th>\n",
              "      <th>ct_flw_http_mthd</th>\n",
              "      <th>is_ftp_login</th>\n",
              "      <th>ct_ftp_cmd</th>\n",
              "      <th>ct_srv_src</th>\n",
              "      <th>ct_srv_dst</th>\n",
              "      <th>ct_dst_ltm</th>\n",
              "      <th>ct_src_ltm</th>\n",
              "      <th>ct_src_dport_ltm</th>\n",
              "      <th>ct_dst_sport_ltm</th>\n",
              "      <th>ct_dst_src_ltm</th>\n",
              "      <th>attack_cat</th>\n",
              "      <th>Label</th>\n",
              "    </tr>\n",
              "  </thead>\n",
              "  <tbody>\n",
              "    <tr>\n",
              "      <th>0</th>\n",
              "      <td>59.166.0.0</td>\n",
              "      <td>1390</td>\n",
              "      <td>149.171.126.6</td>\n",
              "      <td>53</td>\n",
              "      <td>udp</td>\n",
              "      <td>CON</td>\n",
              "      <td>0.001055</td>\n",
              "      <td>132</td>\n",
              "      <td>164</td>\n",
              "      <td>31</td>\n",
              "      <td>29</td>\n",
              "      <td>0</td>\n",
              "      <td>0</td>\n",
              "      <td>dns</td>\n",
              "      <td>500473.93750</td>\n",
              "      <td>621800.93750</td>\n",
              "      <td>2</td>\n",
              "      <td>2</td>\n",
              "      <td>0</td>\n",
              "      <td>0</td>\n",
              "      <td>0</td>\n",
              "      <td>0</td>\n",
              "      <td>66</td>\n",
              "      <td>82</td>\n",
              "      <td>0</td>\n",
              "      <td>0</td>\n",
              "      <td>0.00000</td>\n",
              "      <td>0.000000</td>\n",
              "      <td>1421927414</td>\n",
              "      <td>1421927414</td>\n",
              "      <td>0.017</td>\n",
              "      <td>0.013000</td>\n",
              "      <td>0.0</td>\n",
              "      <td>0.0</td>\n",
              "      <td>0.0</td>\n",
              "      <td>0</td>\n",
              "      <td>0</td>\n",
              "      <td>0.0</td>\n",
              "      <td>0.0</td>\n",
              "      <td>0</td>\n",
              "      <td>3</td>\n",
              "      <td>7</td>\n",
              "      <td>1</td>\n",
              "      <td>3</td>\n",
              "      <td>1</td>\n",
              "      <td>1</td>\n",
              "      <td>1</td>\n",
              "      <td>NaN</td>\n",
              "      <td>0</td>\n",
              "    </tr>\n",
              "    <tr>\n",
              "      <th>1</th>\n",
              "      <td>59.166.0.0</td>\n",
              "      <td>33661</td>\n",
              "      <td>149.171.126.9</td>\n",
              "      <td>1024</td>\n",
              "      <td>udp</td>\n",
              "      <td>CON</td>\n",
              "      <td>0.036133</td>\n",
              "      <td>528</td>\n",
              "      <td>304</td>\n",
              "      <td>31</td>\n",
              "      <td>29</td>\n",
              "      <td>0</td>\n",
              "      <td>0</td>\n",
              "      <td>-</td>\n",
              "      <td>87676.08594</td>\n",
              "      <td>50480.17188</td>\n",
              "      <td>4</td>\n",
              "      <td>4</td>\n",
              "      <td>0</td>\n",
              "      <td>0</td>\n",
              "      <td>0</td>\n",
              "      <td>0</td>\n",
              "      <td>132</td>\n",
              "      <td>76</td>\n",
              "      <td>0</td>\n",
              "      <td>0</td>\n",
              "      <td>9.89101</td>\n",
              "      <td>10.682733</td>\n",
              "      <td>1421927414</td>\n",
              "      <td>1421927414</td>\n",
              "      <td>7.005</td>\n",
              "      <td>7.564333</td>\n",
              "      <td>0.0</td>\n",
              "      <td>0.0</td>\n",
              "      <td>0.0</td>\n",
              "      <td>0</td>\n",
              "      <td>0</td>\n",
              "      <td>0.0</td>\n",
              "      <td>0.0</td>\n",
              "      <td>0</td>\n",
              "      <td>2</td>\n",
              "      <td>4</td>\n",
              "      <td>2</td>\n",
              "      <td>3</td>\n",
              "      <td>1</td>\n",
              "      <td>1</td>\n",
              "      <td>2</td>\n",
              "      <td>NaN</td>\n",
              "      <td>0</td>\n",
              "    </tr>\n",
              "    <tr>\n",
              "      <th>2</th>\n",
              "      <td>59.166.0.6</td>\n",
              "      <td>1464</td>\n",
              "      <td>149.171.126.7</td>\n",
              "      <td>53</td>\n",
              "      <td>udp</td>\n",
              "      <td>CON</td>\n",
              "      <td>0.001119</td>\n",
              "      <td>146</td>\n",
              "      <td>178</td>\n",
              "      <td>31</td>\n",
              "      <td>29</td>\n",
              "      <td>0</td>\n",
              "      <td>0</td>\n",
              "      <td>dns</td>\n",
              "      <td>521894.53130</td>\n",
              "      <td>636282.37500</td>\n",
              "      <td>2</td>\n",
              "      <td>2</td>\n",
              "      <td>0</td>\n",
              "      <td>0</td>\n",
              "      <td>0</td>\n",
              "      <td>0</td>\n",
              "      <td>73</td>\n",
              "      <td>89</td>\n",
              "      <td>0</td>\n",
              "      <td>0</td>\n",
              "      <td>0.00000</td>\n",
              "      <td>0.000000</td>\n",
              "      <td>1421927414</td>\n",
              "      <td>1421927414</td>\n",
              "      <td>0.017</td>\n",
              "      <td>0.013000</td>\n",
              "      <td>0.0</td>\n",
              "      <td>0.0</td>\n",
              "      <td>0.0</td>\n",
              "      <td>0</td>\n",
              "      <td>0</td>\n",
              "      <td>0.0</td>\n",
              "      <td>0.0</td>\n",
              "      <td>0</td>\n",
              "      <td>12</td>\n",
              "      <td>8</td>\n",
              "      <td>1</td>\n",
              "      <td>2</td>\n",
              "      <td>2</td>\n",
              "      <td>1</td>\n",
              "      <td>1</td>\n",
              "      <td>NaN</td>\n",
              "      <td>0</td>\n",
              "    </tr>\n",
              "    <tr>\n",
              "      <th>3</th>\n",
              "      <td>59.166.0.5</td>\n",
              "      <td>3593</td>\n",
              "      <td>149.171.126.5</td>\n",
              "      <td>53</td>\n",
              "      <td>udp</td>\n",
              "      <td>CON</td>\n",
              "      <td>0.001209</td>\n",
              "      <td>132</td>\n",
              "      <td>164</td>\n",
              "      <td>31</td>\n",
              "      <td>29</td>\n",
              "      <td>0</td>\n",
              "      <td>0</td>\n",
              "      <td>dns</td>\n",
              "      <td>436724.56250</td>\n",
              "      <td>542597.18750</td>\n",
              "      <td>2</td>\n",
              "      <td>2</td>\n",
              "      <td>0</td>\n",
              "      <td>0</td>\n",
              "      <td>0</td>\n",
              "      <td>0</td>\n",
              "      <td>66</td>\n",
              "      <td>82</td>\n",
              "      <td>0</td>\n",
              "      <td>0</td>\n",
              "      <td>0.00000</td>\n",
              "      <td>0.000000</td>\n",
              "      <td>1421927414</td>\n",
              "      <td>1421927414</td>\n",
              "      <td>0.043</td>\n",
              "      <td>0.014000</td>\n",
              "      <td>0.0</td>\n",
              "      <td>0.0</td>\n",
              "      <td>0.0</td>\n",
              "      <td>0</td>\n",
              "      <td>0</td>\n",
              "      <td>0.0</td>\n",
              "      <td>0.0</td>\n",
              "      <td>0</td>\n",
              "      <td>6</td>\n",
              "      <td>9</td>\n",
              "      <td>1</td>\n",
              "      <td>1</td>\n",
              "      <td>1</td>\n",
              "      <td>1</td>\n",
              "      <td>1</td>\n",
              "      <td>NaN</td>\n",
              "      <td>0</td>\n",
              "    </tr>\n",
              "    <tr>\n",
              "      <th>4</th>\n",
              "      <td>59.166.0.3</td>\n",
              "      <td>49664</td>\n",
              "      <td>149.171.126.0</td>\n",
              "      <td>53</td>\n",
              "      <td>udp</td>\n",
              "      <td>CON</td>\n",
              "      <td>0.001169</td>\n",
              "      <td>146</td>\n",
              "      <td>178</td>\n",
              "      <td>31</td>\n",
              "      <td>29</td>\n",
              "      <td>0</td>\n",
              "      <td>0</td>\n",
              "      <td>dns</td>\n",
              "      <td>499572.25000</td>\n",
              "      <td>609067.56250</td>\n",
              "      <td>2</td>\n",
              "      <td>2</td>\n",
              "      <td>0</td>\n",
              "      <td>0</td>\n",
              "      <td>0</td>\n",
              "      <td>0</td>\n",
              "      <td>73</td>\n",
              "      <td>89</td>\n",
              "      <td>0</td>\n",
              "      <td>0</td>\n",
              "      <td>0.00000</td>\n",
              "      <td>0.000000</td>\n",
              "      <td>1421927414</td>\n",
              "      <td>1421927414</td>\n",
              "      <td>0.005</td>\n",
              "      <td>0.003000</td>\n",
              "      <td>0.0</td>\n",
              "      <td>0.0</td>\n",
              "      <td>0.0</td>\n",
              "      <td>0</td>\n",
              "      <td>0</td>\n",
              "      <td>0.0</td>\n",
              "      <td>0.0</td>\n",
              "      <td>0</td>\n",
              "      <td>7</td>\n",
              "      <td>9</td>\n",
              "      <td>1</td>\n",
              "      <td>1</td>\n",
              "      <td>1</td>\n",
              "      <td>1</td>\n",
              "      <td>1</td>\n",
              "      <td>NaN</td>\n",
              "      <td>0</td>\n",
              "    </tr>\n",
              "  </tbody>\n",
              "</table>\n",
              "</div>"
            ],
            "text/plain": [
              "        srcip  sport          dstip  ... ct_dst_src_ltm attack_cat Label\n",
              "0  59.166.0.0   1390  149.171.126.6  ...              1        NaN     0\n",
              "1  59.166.0.0  33661  149.171.126.9  ...              2        NaN     0\n",
              "2  59.166.0.6   1464  149.171.126.7  ...              1        NaN     0\n",
              "3  59.166.0.5   3593  149.171.126.5  ...              1        NaN     0\n",
              "4  59.166.0.3  49664  149.171.126.0  ...              1        NaN     0\n",
              "\n",
              "[5 rows x 49 columns]"
            ]
          },
          "metadata": {
            "tags": []
          },
          "execution_count": 6
        }
      ]
    },
    {
      "cell_type": "code",
      "metadata": {
        "id": "36s-4SIRrx_c",
        "colab_type": "code",
        "outputId": "4f2cc436-2c31-4521-f778-630009a91592",
        "colab": {
          "base_uri": "https://localhost:8080/",
          "height": 274
        }
      },
      "source": [
        "df.describe"
      ],
      "execution_count": 7,
      "outputs": [
        {
          "output_type": "execute_result",
          "data": {
            "text/plain": [
              "<bound method NDFrame.describe of                srcip  sport           dstip  ... ct_dst_src_ltm attack_cat Label\n",
              "0         59.166.0.0   1390   149.171.126.6  ...              1        NaN     0\n",
              "1         59.166.0.0  33661   149.171.126.9  ...              2        NaN     0\n",
              "2         59.166.0.6   1464   149.171.126.7  ...              1        NaN     0\n",
              "3         59.166.0.5   3593   149.171.126.5  ...              1        NaN     0\n",
              "4         59.166.0.3  49664   149.171.126.0  ...              1        NaN     0\n",
              "...              ...    ...             ...  ...            ...        ...   ...\n",
              "440039    59.166.0.5  33094   149.171.126.7  ...              3        NaN     0\n",
              "440040    59.166.0.7  20848   149.171.126.4  ...              2        NaN     0\n",
              "440041    59.166.0.3  21511   149.171.126.9  ...              2        NaN     0\n",
              "440042    59.166.0.9  35433   149.171.126.0  ...              2        NaN     0\n",
              "440043  175.45.176.0  17293  149.171.126.17  ...              2   Exploits     1\n",
              "\n",
              "[2540047 rows x 49 columns]>"
            ]
          },
          "metadata": {
            "tags": []
          },
          "execution_count": 7
        }
      ]
    },
    {
      "cell_type": "markdown",
      "metadata": {
        "id": "f4-5fSc2AczE",
        "colab_type": "text"
      },
      "source": [
        "## Identifying columns to be used"
      ]
    },
    {
      "cell_type": "code",
      "metadata": {
        "id": "Ph0CTJbV2VkX",
        "colab_type": "code",
        "colab": {}
      },
      "source": [
        "binary_columns = [\"is_sm_ips_ports\", \"is_ftp_login\"]"
      ],
      "execution_count": 0,
      "outputs": []
    },
    {
      "cell_type": "code",
      "metadata": {
        "id": "LzO4M2T6AmT_",
        "colab_type": "code",
        "colab": {}
      },
      "source": [
        "continuous_column_names = [\"ct_state_ttl\", \"ct_flw_http_mthd\", \"ct_ftp_cmd\", \"ct_srv_src\", \"ct_dst_ltm\", \"ct_src_ltm\", \"ct_src_dport_ltm\", \"ct_dst_sport_ltm\", \"ct_dst_src_ltm\"]"
      ],
      "execution_count": 0,
      "outputs": []
    },
    {
      "cell_type": "code",
      "metadata": {
        "id": "4dF2F-zLA0we",
        "colab_type": "code",
        "colab": {}
      },
      "source": [
        "label_columns = [\"Label\"]"
      ],
      "execution_count": 0,
      "outputs": []
    },
    {
      "cell_type": "code",
      "metadata": {
        "id": "QHZt5CZRAcDM",
        "colab_type": "code",
        "colab": {}
      },
      "source": [
        "# int for intermediate\n",
        "df_int = df[binary_columns + continuous_column_names + label_columns]"
      ],
      "execution_count": 0,
      "outputs": []
    },
    {
      "cell_type": "markdown",
      "metadata": {
        "id": "hIdp9gBN84hq",
        "colab_type": "text"
      },
      "source": [
        "### Combining and Dropping NaN values"
      ]
    },
    {
      "cell_type": "code",
      "metadata": {
        "id": "HbsIQpKv9d8G",
        "colab_type": "code",
        "outputId": "d53bc15b-7656-4448-e7b8-e194391d5eab",
        "colab": {
          "base_uri": "https://localhost:8080/",
          "height": 274
        }
      },
      "source": [
        "df_int = df_int.dropna()\n",
        "df_int.describe"
      ],
      "execution_count": 12,
      "outputs": [
        {
          "output_type": "execute_result",
          "data": {
            "text/plain": [
              "<bound method NDFrame.describe of         is_sm_ips_ports  is_ftp_login  ...  ct_dst_src_ltm  Label\n",
              "0                     0           0.0  ...               1      0\n",
              "1                     0           0.0  ...               2      0\n",
              "2                     0           0.0  ...               1      0\n",
              "3                     0           0.0  ...               1      0\n",
              "4                     0           0.0  ...               1      0\n",
              "...                 ...           ...  ...             ...    ...\n",
              "387197                0           0.0  ...               1      0\n",
              "387198                0           0.0  ...               1      0\n",
              "387199                0           0.0  ...               2      0\n",
              "387200                0           0.0  ...               2      0\n",
              "387201                0           0.0  ...               2      0\n",
              "\n",
              "[1087203 rows x 12 columns]>"
            ]
          },
          "metadata": {
            "tags": []
          },
          "execution_count": 12
        }
      ]
    },
    {
      "cell_type": "markdown",
      "metadata": {
        "id": "N0CHGEmv2WOy",
        "colab_type": "text"
      },
      "source": [
        "## Categorical Columns\n",
        "Certain boolean columns are of interest to us."
      ]
    },
    {
      "cell_type": "markdown",
      "metadata": {
        "id": "bJ09ShXxxGxW",
        "colab_type": "text"
      },
      "source": [
        "### Converting IPs"
      ]
    },
    {
      "cell_type": "code",
      "metadata": {
        "id": "7Hy-IDIuzocx",
        "colab_type": "code",
        "outputId": "2b12b39f-eb3f-4746-9b45-16dce2ee18ac",
        "colab": {
          "base_uri": "https://localhost:8080/",
          "height": 35
        }
      },
      "source": [
        "# Checking the unique IP addresses\n",
        "src_nodes = df.srcip.unique()\n",
        "ds_nodes = df.dstip.unique()\n",
        "np.count_nonzero(src_nodes), np.count_nonzero(ds_nodes)"
      ],
      "execution_count": 13,
      "outputs": [
        {
          "output_type": "execute_result",
          "data": {
            "text/plain": [
              "(43, 47)"
            ]
          },
          "metadata": {
            "tags": []
          },
          "execution_count": 13
        }
      ]
    },
    {
      "cell_type": "markdown",
      "metadata": {
        "id": "3SuMOD162Nym",
        "colab_type": "text"
      },
      "source": [
        "### Continuous Features of Interest\n",
        "We will be selecting out specific columns to utilize.\n",
        "\n",
        "\n",
        "\n",
        "```\n",
        "ct_state_ttl\tInteger\t\n",
        "No. for each state (6) according to specific range of values for source/destination time to live (10) (11).\n",
        "\n",
        "ct_flw_http_mthd\tInteger\t\n",
        "No. of flows that has methods such as Get and Post in http service.\n",
        "\n",
        "ct_ftp_cmd\tinteger\t\n",
        "No of flows that has a command in ftp session.\n",
        "\n",
        "ct_srv_src\tinteger\t\n",
        "No. of connections that contain the same service (14) and source address (1) in 100 connections according to the last time (26).\n",
        "\n",
        "ct_srv_dst\tinteger\t\n",
        "No. of connections that contain the same service (14) and destination address (3) in 100 connections according to the last time (26).\n",
        "\n",
        "ct_dst_ltm\tinteger\t\n",
        "No. of connections of the same destination address (3) in 100 connections according to the last time (26).\n",
        "\n",
        "ct_src_ ltm\tinteger\t\n",
        "No. of connections of the same source address (1) in 100 connections according to the last time (26).\n",
        "\n",
        "ct_src_dport_ltm\tinteger\t\n",
        "No of connections of the same source address (1) and the destination port (4) in 100 connections according to the last time (26).\n",
        "\n",
        "ct_dst_sport_ltm\tinteger\t\n",
        "No of connections of the same destination address (3) and the source port (2) in 100 connections according to the last time (26).\n",
        "\n",
        "ct_dst_src_ltm\tinteger\t\n",
        "No of connections of the same source (1) and the destination (3) address in in 100 connections according to the last time (26).\n",
        "```\n",
        "\n",
        "\n",
        "\n"
      ]
    },
    {
      "cell_type": "markdown",
      "metadata": {
        "id": "78mGpvoRBoYq",
        "colab_type": "text"
      },
      "source": [
        "### Type Conversions"
      ]
    },
    {
      "cell_type": "code",
      "metadata": {
        "id": "qtguGKR66jgN",
        "colab_type": "code",
        "outputId": "d0a2c251-9275-4ce4-aeac-8a2413f19c58",
        "colab": {
          "base_uri": "https://localhost:8080/",
          "height": 35
        }
      },
      "source": [
        "# we clean up the ct_flw_http_mthd column before normalizing the continuous columns\n",
        "\n",
        "df_int.ct_flw_http_mthd.unique()"
      ],
      "execution_count": 14,
      "outputs": [
        {
          "output_type": "execute_result",
          "data": {
            "text/plain": [
              "array([ 0.,  1.,  2.,  4., 14.,  8.,  6., 12., 10.,  3.,  5., 36.,  9.])"
            ]
          },
          "metadata": {
            "tags": []
          },
          "execution_count": 14
        }
      ]
    },
    {
      "cell_type": "code",
      "metadata": {
        "id": "lQjneaJw7D2p",
        "colab_type": "code",
        "outputId": "e95886f2-b82f-462f-91b4-ccaf78ba43d7",
        "colab": {
          "base_uri": "https://localhost:8080/",
          "height": 35
        }
      },
      "source": [
        "df_int.ct_flw_http_mthd = df_int.ct_flw_http_mthd.apply(lambda x: int(x) if x != np.nan else 0  )\n",
        "\n",
        "df_int.ct_flw_http_mthd.unique()"
      ],
      "execution_count": 18,
      "outputs": [
        {
          "output_type": "execute_result",
          "data": {
            "text/plain": [
              "array([ 0,  1,  2,  4, 14,  8,  6, 12, 10,  3,  5, 36,  9])"
            ]
          },
          "metadata": {
            "tags": []
          },
          "execution_count": 18
        }
      ]
    },
    {
      "cell_type": "markdown",
      "metadata": {
        "id": "8_-2jJGPsqmp",
        "colab_type": "text"
      },
      "source": [
        "## Creating our Training, Validation , and Testing Sets\n",
        "This step is essential to ensure that the model does not overfit to data that has been already seen.\n",
        "\n",
        "Some [definitions](https://towardsdatascience.com/train-validation-and-test-sets-72cb40cba9e7):\n",
        "- Training Dataset: For fitting the model\n",
        "- Validation Dataset: For tuning hyperparameters\n",
        "- Test Dataset: For evaluating final model"
      ]
    },
    {
      "cell_type": "code",
      "metadata": {
        "id": "hBndgnixsMl7",
        "colab_type": "code",
        "colab": {}
      },
      "source": [
        "from sklearn.model_selection import train_test_split\n",
        "from sklearn.preprocessing import normalize\n",
        "\n",
        "cont_norm = normalize(df_int[continuous_column_names].values)\n",
        "\n",
        "\n",
        "X = np.concatenate([df_int[binary_columns].values, cont_norm], axis=1)\n",
        "\n",
        "labels = df_int[\"Label\"].values"
      ],
      "execution_count": 0,
      "outputs": []
    },
    {
      "cell_type": "markdown",
      "metadata": {
        "id": "XoC3-GZxvffg",
        "colab_type": "text"
      },
      "source": [
        "For demonstrative purposes, we are only concerned with **identifying a possible attack**, and not concerned with categorizing the type of attack it is.\n",
        "\n",
        "As such, we shall make use of the boolean labelling provided in the dataset."
      ]
    },
    {
      "cell_type": "code",
      "metadata": {
        "id": "GABeCNWetepc",
        "colab_type": "code",
        "colab": {}
      },
      "source": [
        "# We split our dataset into training, test, and validation subsets.\n",
        "# X_train and y_train is reassigned by the 2nd split.\n",
        "# We also add in a different random state\n",
        "X_train, X_test, y_train, y_test = train_test_split(X, labels, test_size=0.25, random_state=42)\n"
      ],
      "execution_count": 0,
      "outputs": []
    },
    {
      "cell_type": "markdown",
      "metadata": {
        "id": "XEmUZYP6sNEy",
        "colab_type": "text"
      },
      "source": [
        "## Creating a Naive Model\n",
        "To demonstrate that monitoring and conducting early detection of suspecious connections is a viable method for detecting malicious IoT devices within a network, we shall use an extremely naive model.\n",
        "\n",
        "This model used is a simple CART model - a decision tree, that is created from out-of-the-box tools within SciKit-Learn.\n"
      ]
    },
    {
      "cell_type": "code",
      "metadata": {
        "id": "sffi3wMiwIjb",
        "colab_type": "code",
        "colab": {}
      },
      "source": [
        "from sklearn import tree\n",
        "clf = tree.DecisionTreeClassifier()\n",
        "clf = clf.fit(X_train, y_train)"
      ],
      "execution_count": 0,
      "outputs": []
    },
    {
      "cell_type": "code",
      "metadata": {
        "id": "wLzrAL_DC-L0",
        "colab_type": "code",
        "colab": {
          "base_uri": "https://localhost:8080/",
          "height": 35
        },
        "outputId": "c36e5cb6-b74b-4ede-92c6-ec283252c420"
      },
      "source": [
        "X_test.shape"
      ],
      "execution_count": 46,
      "outputs": [
        {
          "output_type": "execute_result",
          "data": {
            "text/plain": [
              "(271801, 11)"
            ]
          },
          "metadata": {
            "tags": []
          },
          "execution_count": 46
        }
      ]
    },
    {
      "cell_type": "code",
      "metadata": {
        "id": "js_CE7ajCsbE",
        "colab_type": "code",
        "colab": {}
      },
      "source": [
        "y_test_pred = clf.predict(X_test)"
      ],
      "execution_count": 0,
      "outputs": []
    },
    {
      "cell_type": "markdown",
      "metadata": {
        "id": "tI-2VJaIHjkm",
        "colab_type": "text"
      },
      "source": [
        "Defintions:\n",
        "- **f1-score**: The F1 score can be interpreted as a weighted average of the precision and recall, where an F1 score reaches its best value at 1 and worst score at 0. \n",
        "- **recall**: the ratio `true positives / (true positives + false negatives)`. It is the ability of the classifier to find all the positive samples. The best value is 1 and the worst value is 0.\n",
        "- **support**: number of occurrences in each class"
      ]
    },
    {
      "cell_type": "code",
      "metadata": {
        "id": "lx13hDM3BvpX",
        "colab_type": "code",
        "colab": {
          "base_uri": "https://localhost:8080/",
          "height": 479
        },
        "outputId": "3ccd541f-1d3f-4a66-a2b8-35911175d53c"
      },
      "source": [
        "from sklearn.metrics import confusion_matrix, plot_confusion_matrix, classification_report\n",
        "import matplotlib.pyplot as plt\n",
        "\n",
        "y_true = [2, 0, 2, 2, 0, 1]\n",
        "y_pred = [0, 0, 2, 2, 0, 2]\n",
        "\n",
        "labels = [\"Non-attack\", \"Attack\"]\n",
        "print(classification_report(y_test, y_test_pred, target_names=labels))\n",
        "\n",
        "disp = plot_confusion_matrix(clf, X_test, y_test,\n",
        "                              display_labels=labels,\n",
        "                              cmap=plt.cm.Blues,\n",
        "                              normalize='true')\n",
        "disp.ax_.set_title(\"Normalized confusion matrix - Decision Tree\")"
      ],
      "execution_count": 48,
      "outputs": [
        {
          "output_type": "stream",
          "text": [
            "              precision    recall  f1-score   support\n",
            "\n",
            "  Non-attack       1.00      1.00      1.00    266230\n",
            "      Attack       0.88      0.97      0.92      5571\n",
            "\n",
            "    accuracy                           1.00    271801\n",
            "   macro avg       0.94      0.98      0.96    271801\n",
            "weighted avg       1.00      1.00      1.00    271801\n",
            "\n"
          ],
          "name": "stdout"
        },
        {
          "output_type": "execute_result",
          "data": {
            "text/plain": [
              "Text(0.5, 1.0, 'Normalized confusion matrix - Decision Tree')"
            ]
          },
          "metadata": {
            "tags": []
          },
          "execution_count": 48
        },
        {
          "output_type": "display_data",
          "data": {
            "image/png": "[encoded data removed]",
            "text/plain": [
              "<Figure size 432x288 with 2 Axes>"
            ]
          },
          "metadata": {
            "tags": []
          }
        }
      ]
    },
    {
      "cell_type": "markdown",
      "metadata": {
        "id": "7KrpEAHkHTuM",
        "colab_type": "text"
      },
      "source": [
        "Without even tuning our hyper-parameters (of our decision tree), we can see that we are already achieving a very high precision in detecting malicious requests.\n",
        "\n",
        "This goes to show that this is a viable method for detecting malicious IoT requests."
      ]
    }
  ]
}